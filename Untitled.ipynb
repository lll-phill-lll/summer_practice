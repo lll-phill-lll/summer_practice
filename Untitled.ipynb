{
 "cells": [
  {
   "cell_type": "markdown",
   "metadata": {},
   "source": [
    "# Randomized matrix multiplication\n",
    "### Filitov Mikhail, HSE CS BAMI 166"
   ]
  },
  {
   "cell_type": "markdown",
   "metadata": {},
   "source": [
    "### Problem:\n",
    " Numerical linear algebra (NLA) is a well-established and important part of computer science.\n",
    "Some of the basic problems in this area include multiplying matrices, solving linear systems,\n",
    "computing eigenvalues and eigenvectors, and solving linear least-squares problems. Histori-\n",
    "cally, the NLA community has focused on developing highly accurate deterministic methods\n",
    "that require as few floating-point operations as possible. Unfortunately, contemporary appli-\n",
    "cations can strain standard NLA methods because problems have continued to become larger.\n",
    "Furthermore, on modern computer architectures, computational costs depend heavily on com-\n",
    "munication and other resources that the standard algorithms do not manage very well."
   ]
  },
  {
   "cell_type": "markdown",
   "metadata": {},
   "source": [
    "\n",
    "Performing large calculations is almost always long and expensive. Sometimes there are situations where the speed of the algorithm is more important than the 100% accuracy. Here is such algorithm."
   ]
  },
  {
   "cell_type": "markdown",
   "metadata": {},
   "source": [
    "Full algorithm is in an article, but the idea is to make the probability distribution over the matrix, then multiplythe random column and row, and then multiply by the corresponding coefficients from the distribution."
   ]
  },
  {
   "cell_type": "markdown",
   "metadata": {},
   "source": [
    "$$\n",
    "p_j = \\frac{||b_{:j}||^2 + ||c_{j:}||^2}{||B||_{F}^2 + ||C||_{F}^2}\n",
    "\\qquad for \\: j = 1, 2, 3, ... N\n",
    "$$"
   ]
  },
  {
   "cell_type": "markdown",
   "metadata": {},
   "source": [
    "The expectation of that multiplication would be exactly BC."
   ]
  },
  {
   "cell_type": "markdown",
   "metadata": {},
   "source": [
    "$$\n",
    "\\mathbb{E} \\: R = \\sum_{j=1}^{N} \\frac{1}{p_j} b_{:j} c_{j:} p_{j} =\n",
    "\\sum_{j=1}^{N} b_{:j} c_{j:} = BC\n",
    "$$"
   ]
  },
  {
   "cell_type": "markdown",
   "metadata": {},
   "source": [
    "---"
   ]
  },
  {
   "cell_type": "markdown",
   "metadata": {},
   "source": [
    "To generate random matrix we'll use sklearn.datasets.make_low_rank_matrix, which guaranties matrix of fixed effective rank.\n",
    "\n",
    "rows/cols - number of columns and rowl we will multiply using approximate algorithm."
   ]
  },
  {
   "cell_type": "code",
   "execution_count": 1,
   "metadata": {},
   "outputs": [],
   "source": [
    "from sklearn.datasets import make_low_rank_matrix\n",
    "from numpy import linalg as LA\n",
    "from numpy.linalg import matrix_rank\n",
    "import matplotlib.pyplot as plt\n",
    "import numpy as np"
   ]
  },
  {
   "cell_type": "code",
   "execution_count": 2,
   "metadata": {},
   "outputs": [],
   "source": [
    "def rows_norms_squares(matrix):\n",
    "    all_norms = []\n",
    "    for row in matrix:\n",
    "        all_norms.append(sum(list(map(lambda x: x ** 2, row))))\n",
    "    return all_norms\n",
    "\n",
    "\n",
    "def cols_norms_squares(matrix):\n",
    "    all_norms = [0] * matrix.shape[1]\n",
    "    for rows in matrix:\n",
    "        for i in range(rows.shape[0]):\n",
    "            all_norms[i] += rows[i] ** 2\n",
    "    return all_norms"
   ]
  },
  {
   "cell_type": "code",
   "execution_count": 3,
   "metadata": {},
   "outputs": [],
   "source": [
    "\n",
    "def distribution(matrix_A, matrix_B):\n",
    "    rows_norms_B = np.array(rows_norms_squares(matrix_B))\n",
    "    cols_norms_A = np.array(cols_norms_squares(matrix_A))\n",
    "    denom = LA.norm(matrix_A, 'fro') ** 2 + LA.norm(matrix_B, 'fro') ** 2\n",
    "    return (rows_norms_B + cols_norms_A) / denom\n",
    "\n",
    "def mult_matrix(matrix_A, matrix_B, num):\n",
    "    dist = distribution(matrix_A, matrix_B)\n",
    "    res = np.array((np.matrix(matrix_A[:, 0]).T * np.matrix(matrix_B[0])) / dist[0])\n",
    "    for i in range(num):\n",
    "        res += np.array((np.matrix(matrix_A[:, i + num]).T * np.matrix(matrix_B[i + num])) / dist[i + num])\n",
    "    res = np.matrix(res)\n",
    "    res /= num + 1\n",
    "    return res"
   ]
  },
  {
   "cell_type": "markdown",
   "metadata": {},
   "source": [
    "First of all lets find out the number of rows/columns we need to multiplicate to get good result. \n",
    "We will increase the number of rows/columns until the difference cease to change greatly. Use matrix of size 1000 with effective rank = 10."
   ]
  },
  {
   "cell_type": "code",
   "execution_count": 20,
   "metadata": {},
   "outputs": [],
   "source": [
    "norms = []\n",
    "sizes = []\n",
    "\n",
    "i = 10\n",
    "while i < 500:\n",
    "    sizes.append(i)\n",
    "    a = np.array(make_low_rank_matrix(1000, 1000, 10))\n",
    "    b = np.array(make_low_rank_matrix(1000, 1000, 10))\n",
    "    res = mult_matrix(a, b, i)\n",
    "    mul = np.matmul(a, b)\n",
    "    norms.append(LA.norm(mul - res, 'fro'))\n",
    "    i += 10"
   ]
  },
  {
   "cell_type": "code",
   "execution_count": 21,
   "metadata": {},
   "outputs": [
    {
     "data": {
      "image/png": "[encoded data removed]",
      "text/plain": [
       "<Figure size 432x288 with 1 Axes>"
      ]
     },
     "metadata": {
      "needs_background": "light"
     },
     "output_type": "display_data"
    }
   ],
   "source": [
    "plt.title(r'Choosing rows/cols')\n",
    "plt.plot(sizes, norms, label=u\"Frobenius norm\")\n",
    "plt.legend()\n",
    "plt.grid()\n",
    "plt.xlabel('Sizes')\n",
    "plt.ylabel('Frobenius score');"
   ]
  },
  {
   "cell_type": "markdown",
   "metadata": {},
   "source": [
    "The result is quite predictable. The more cols/rows we take, the less Frobenius score we get. 3-4 is pretty normal, so rows/cols size will be 10, it's easier to multiplicate."
   ]
  },
  {
   "cell_type": "markdown",
   "metadata": {},
   "source": [
    "---"
   ]
  },
  {
   "cell_type": "markdown",
   "metadata": {},
   "source": [
    "The other interesting experiment is why do we need low-rank matrices. Try to multiplicate matrices with normal rank. Size of cols/rows = 10"
   ]
  },
  {
   "cell_type": "code",
   "execution_count": 26,
   "metadata": {},
   "outputs": [],
   "source": [
    "norms = []\n",
    "rank_size = []\n",
    "\n",
    "i = 10\n",
    "while i < 500:\n",
    "    rank_size.append(i)\n",
    "    a = np.array(make_low_rank_matrix(1000, 1000, i))\n",
    "    b = np.array(make_low_rank_matrix(1000, 1000, i))\n",
    "    res = mult_matrix(a, b, 10)\n",
    "    mul = np.matmul(a, b)\n",
    "    norms2.append(LA.norm(mul - res, 'fro'))\n",
    "    i += 10"
   ]
  },
  {
   "cell_type": "code",
   "execution_count": 28,
   "metadata": {
    "scrolled": true
   },
   "outputs": [
    {
     "data": {
      "image/png": "[encoded data removed]",
      "text/plain": [
       "<Figure size 432x288 with 1 Axes>"
      ]
     },
     "metadata": {
      "needs_background": "light"
     },
     "output_type": "display_data"
    }
   ],
   "source": [
    "plt.title(r'Why do we need low-rank matrices')\n",
    "plt.plot(norms, rank_size, label=u\"Frobenius norm\")\n",
    "plt.legend()\n",
    "plt.grid()\n",
    "plt.ylabel('Effective rank')\n",
    "plt.xlabel('Frobenius score');"
   ]
  },
  {
   "cell_type": "markdown",
   "metadata": {},
   "source": [
    "This line grows fast, this is the reason, why this algorithm is suitable only for low-rank matrices."
   ]
  },
  {
   "cell_type": "markdown",
   "metadata": {},
   "source": [
    "---"
   ]
  },
  {
   "cell_type": "markdown",
   "metadata": {},
   "source": [
    "Compare computation speed (our matrices have rank 10):"
   ]
  },
  {
   "cell_type": "code",
   "execution_count": 43,
   "metadata": {},
   "outputs": [],
   "source": [
    "def matmult(matrix_A, matrix_B):\n",
    "    result = [[0 for e in range(len(matrix_A))] for e in range(len(matrix_A))]\n",
    "    for i in range(len(matrix_A)):\n",
    "   # iterate through columns of Y\n",
    "       for j in range(len(matrix_B[0])):\n",
    "       # iterate through rows of Y\n",
    "           for k in range(len(matrix_B)):\n",
    "               result[i][j] += matrix_A[i][k] * matrix_B[k][j]\n",
    "    return result"
   ]
  },
  {
   "cell_type": "code",
   "execution_count": 62,
   "metadata": {},
   "outputs": [],
   "source": [
    "import time\n",
    "\n",
    "matrix_size = []\n",
    "time_matrix_multiplication = []\n",
    "time_randomized_multiplication = []\n",
    "norms = []\n",
    "\n",
    "i = 20\n",
    "while i < 100:\n",
    "    matrix_size.append(i)\n",
    "    a = np.array(make_low_rank_matrix(i, i, 10))\n",
    "    b = np.array(make_low_rank_matrix(i, i, 10))\n",
    "    \n",
    "    start = time.time()\n",
    "    res = mult_matrix(a, b, 10)\n",
    "    time_randomized_multiplication.append(time.time() - start)\n",
    "    \n",
    "    start = time.time()\n",
    "    mul = matmult(a, b)\n",
    "    time_matrix_multiplication.append(time.time() - start)\n",
    "    \n",
    "    norms.append(LA.norm(mul - res, 'fro'))\n",
    "    i += 10"
   ]
  },
  {
   "cell_type": "code",
   "execution_count": 63,
   "metadata": {},
   "outputs": [
    {
     "data": {
      "text/plain": [
       "<matplotlib.legend.Legend at 0x7fd142e00c18>"
      ]
     },
     "execution_count": 63,
     "metadata": {},
     "output_type": "execute_result"
    },
    {
     "data": {
      "image/png": "[encoded data removed]",
      "text/plain": [
       "<Figure size 432x288 with 1 Axes>"
      ]
     },
     "metadata": {
      "needs_background": "light"
     },
     "output_type": "display_data"
    }
   ],
   "source": [
    "f, p = plt.subplots(1)\n",
    "\n",
    "p.plot(matrix_size, time_randomized_multiplication, label=u\"Randomized algorithm rows/cols = 10\")\n",
    "p.plot(matrix_size, time_matrix_multiplication, label=u\"Usual matrix multiplication\")\n",
    "p.set_title(u\"Speed comparison\")\n",
    "p.set_xlabel(u\"Matrix size\")\n",
    "p.set_ylabel(u\"Time (s)\")\n",
    "p.grid()\n",
    "p.legend()"
   ]
  },
  {
   "cell_type": "markdown",
   "metadata": {},
   "source": [
    "Conclusion: this algorithm works faster, than regular multiplication, it's complexity is $O(N(d_1 + d_2)$), where $d1$, $d_2$ - are sizes of matrices, when regular multiplication requires $O(N^2)$.\n",
    "Also this algorithm shows go"
   ]
  }
 ],
 "metadata": {
  "kernelspec": {
   "display_name": "Python 3",
   "language": "python",
   "name": "python3"
  },
  "language_info": {
   "codemirror_mode": {
    "name": "ipython",
    "version": 3
   },
   "file_extension": ".py",
   "mimetype": "text/x-python",
   "name": "python",
   "nbconvert_exporter": "python",
   "pygments_lexer": "ipython3",
   "version": "3.6.5"
  }
 },
 "nbformat": 4,
 "nbformat_minor": 2
}
